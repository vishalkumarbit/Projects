{
 "cells": [
  {
   "cell_type": "code",
   "execution_count": 1,
   "metadata": {},
   "outputs": [],
   "source": [
    "#created a display board\n",
    "from IPython.display import clear_output\n",
    "def display_board(board):\n",
    "    clear_output()\n",
    "    print('   |   |')\n",
    "    print(' ' + board[7] + ' | ' + board[8] + ' | ' + board[9])\n",
    "    print('   |   |')\n",
    "    print('-----------')\n",
    "    print('   |   |')\n",
    "    print(' ' + board[4] + ' | ' + board[5] + ' | ' + board[6])\n",
    "    print('   |   |')\n",
    "    print('-----------')\n",
    "    print('   |   |')\n",
    "    print(' ' + board[1] + ' | ' + board[2] + ' | ' + board[3])\n",
    "    print('   |   |')"
   ]
  },
  {
   "cell_type": "code",
   "execution_count": 2,
   "metadata": {},
   "outputs": [
    {
     "name": "stdout",
     "output_type": "stream",
     "text": [
      "   |   |\n",
      " 7 | 8 | 9\n",
      "   |   |\n",
      "-----------\n",
      "   |   |\n",
      " 4 | 5 | 6\n",
      "   |   |\n",
      "-----------\n",
      "   |   |\n",
      " 1 | 2 | 3\n",
      "   |   |\n"
     ]
    }
   ],
   "source": [
    "#test board\n",
    "testing = ['#','1','2','3','4','5','6','7','8','9']\n",
    "display_board(testing)"
   ]
  },
  {
   "cell_type": "code",
   "execution_count": 3,
   "metadata": {},
   "outputs": [],
   "source": [
    "#Selecting players markers\n",
    "def player_move():\n",
    "    move = ''\n",
    "    \n",
    "    while not (move == 'X' or move == 'O'):\n",
    "        move = input('Player 1: Do you want to be X or O? ').upper()\n",
    "\n",
    "    if move == 'X':\n",
    "        return ('X', 'O')\n",
    "    else:\n",
    "        return ('O', 'X')"
   ]
  },
  {
   "cell_type": "code",
   "execution_count": 4,
   "metadata": {},
   "outputs": [
    {
     "name": "stdout",
     "output_type": "stream",
     "text": [
      "Player 1: Do you want to be X or O? X\n"
     ]
    },
    {
     "data": {
      "text/plain": [
       "('X', 'O')"
      ]
     },
     "execution_count": 4,
     "metadata": {},
     "output_type": "execute_result"
    }
   ],
   "source": [
    "player_move()"
   ]
  },
  {
   "cell_type": "code",
   "execution_count": 5,
   "metadata": {},
   "outputs": [],
   "source": [
    "#Assigning position for the marker\n",
    "def place_hold(board, mark, place):\n",
    "    board[place] = mark"
   ]
  },
  {
   "cell_type": "code",
   "execution_count": 6,
   "metadata": {},
   "outputs": [
    {
     "name": "stdout",
     "output_type": "stream",
     "text": [
      "   |   |\n",
      " 7 | 8 | 9\n",
      "   |   |\n",
      "-----------\n",
      "   |   |\n",
      " 4 | # | 6\n",
      "   |   |\n",
      "-----------\n",
      "   |   |\n",
      " 1 | 2 | 3\n",
      "   |   |\n"
     ]
    }
   ],
   "source": [
    "place_hold(testing, '#', 5)\n",
    "display_board(testing)"
   ]
  },
  {
   "cell_type": "code",
   "execution_count": 7,
   "metadata": {},
   "outputs": [],
   "source": [
    "#Checking for win\n",
    "def win_check(board,move):\n",
    "    \n",
    "    return ((board[7] == move and board[8] == move and board[9] == move) or # across the top\n",
    "    (board[4] == move and board[5] == move and board[6] == move) or # across the middle\n",
    "    (board[1] == move and board[2] == move and board[3] == move) or # across the bottom\n",
    "    (board[7] == move and board[4] == move and board[1] == move) or # down the middle\n",
    "    (board[8] == move and board[5] == move and board[2] == move) or # down the middle\n",
    "    (board[9] == move and board[6] == move and board[3] == move) or # down the right side\n",
    "    (board[7] == move and board[5] == move and board[3] == move) or # diagonal\n",
    "    (board[9] == move and board[5] == move and board[1] == move)) # diagonal"
   ]
  },
  {
   "cell_type": "code",
   "execution_count": 8,
   "metadata": {},
   "outputs": [],
   "source": [
    "#Toss\n",
    "import random\n",
    "def toss():\n",
    "    if random.randint(0,1) == 0:\n",
    "        return 'Player 2'\n",
    "    else:\n",
    "        return 'Player 1'"
   ]
  },
  {
   "cell_type": "code",
   "execution_count": 9,
   "metadata": {},
   "outputs": [],
   "source": [
    "#Checking for space at perticular position\n",
    "def check_space(board, place):\n",
    "    return board[place] == ' '"
   ]
  },
  {
   "cell_type": "code",
   "execution_count": 10,
   "metadata": {},
   "outputs": [],
   "source": [
    "#Checking for full board\n",
    "def full_board_check(board):\n",
    "    for i in range(1,10):\n",
    "        if check_space(board,i):\n",
    "            return False\n",
    "    return True"
   ]
  },
  {
   "cell_type": "code",
   "execution_count": 11,
   "metadata": {},
   "outputs": [],
   "source": [
    "#Input for the move\n",
    "def player_choice(board):\n",
    "    place = 0\n",
    "    while place not in [1,2,3,4,5,6,7,8,9] or not check_space(board, place):\n",
    "        place = int(input('Choose your next place of your move from (1-9)'))\n",
    "    return place"
   ]
  },
  {
   "cell_type": "code",
   "execution_count": 12,
   "metadata": {},
   "outputs": [],
   "source": [
    "#Asking for replay\n",
    "def replay():\n",
    "    x = input('Do you want to play again? \\n Enter Yes or No').lower()\n",
    "    if x[0] == 'n':\n",
    "        return False\n",
    "    else:\n",
    "        return True"
   ]
  },
  {
   "cell_type": "code",
   "execution_count": null,
   "metadata": {},
   "outputs": [
    {
     "name": "stdout",
     "output_type": "stream",
     "text": [
      "   |   |\n",
      " O |   |  \n",
      "   |   |\n",
      "-----------\n",
      "   |   |\n",
      " X | O | X\n",
      "   |   |\n",
      "-----------\n",
      "   |   |\n",
      " O | X | O\n",
      "   |   |\n",
      "Congratulation! you have won the game\n",
      "Do you want to play again? \n",
      " Enter Yes or Noyes\n"
     ]
    }
   ],
   "source": [
    "#Implementation\n",
    "print('Welcome to TIC TAC TOE Game')\n",
    "while True:\n",
    "    theboard=[' ']*10\n",
    "    player1_marker, player2_marker = player_move()\n",
    "    turn = toss()\n",
    "    print(turn + ' will go first')\n",
    "    play = input('Do you want to play this game?')\n",
    "    if play.lower()[0] == 'y':\n",
    "        game_on = True\n",
    "    else:\n",
    "        game_on = False\n",
    "    while game_on:\n",
    "        if turn == 'Player 1':\n",
    "            display_board(theboard)\n",
    "            position = player_choice(theboard)\n",
    "            place_hold(theboard,player1_marker,position)\n",
    "            if win_check(theboard, player1_marker):\n",
    "                display_board(theboard)\n",
    "                print('Congratulation! you have won the game')\n",
    "                game_on = False\n",
    "            else:\n",
    "                if full_board_check(theboard):\n",
    "                    display_board(theboard)\n",
    "                    print('The game is draw')\n",
    "                    break\n",
    "                else:\n",
    "                    turn = 'Player 2'\n",
    "        else:\n",
    "            display_board(theboard)\n",
    "            position = player_choice(theboard)\n",
    "            place_hold(theboard,player2_marker,position)\n",
    "            if win_check(theboard, player2_marker):\n",
    "                display_board(theboard)\n",
    "                print('Congratulation! you have won the game')\n",
    "                game_on = False\n",
    "            else:\n",
    "                if full_board_check(theboard):\n",
    "                    display_board(theboard)\n",
    "                    print('The game is draw')\n",
    "                    break\n",
    "                else:\n",
    "                    turn = 'Player 1'\n",
    "    if not replay():\n",
    "        break"
   ]
  },
  {
   "cell_type": "code",
   "execution_count": null,
   "metadata": {},
   "outputs": [],
   "source": []
  }
 ],
 "metadata": {
  "kernelspec": {
   "display_name": "Python 3",
   "language": "python",
   "name": "python3"
  },
  "language_info": {
   "codemirror_mode": {
    "name": "ipython",
    "version": 3
   },
   "file_extension": ".py",
   "mimetype": "text/x-python",
   "name": "python",
   "nbconvert_exporter": "python",
   "pygments_lexer": "ipython3",
   "version": "3.7.1"
  }
 },
 "nbformat": 4,
 "nbformat_minor": 2
}
